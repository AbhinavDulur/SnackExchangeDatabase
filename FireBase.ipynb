{
 "cells": [
  {
   "cell_type": "code",
   "execution_count": 2,
   "metadata": {},
   "outputs": [],
   "source": [
    "#Importing packages\n",
    "\n",
    "#Firebase library\n",
    "from firebase import firebase"
   ]
  },
  {
   "cell_type": "code",
   "execution_count": 16,
   "metadata": {},
   "outputs": [],
   "source": [
    "#Opens my database (no security)\n",
    "FBConn = firebase.FirebaseApplication('https://snack-exchange-database.firebaseio.com/', None)"
   ]
  },
  {
   "cell_type": "markdown",
   "metadata": {},
   "source": [
    "# Adding data to FireBase"
   ]
  },
  {
   "cell_type": "code",
   "execution_count": 19,
   "metadata": {},
   "outputs": [],
   "source": [
    "result2 = FBConn.put('/School1', 'School Name', 'St. Andrews') "
   ]
  },
  {
   "cell_type": "code",
   "execution_count": 7,
   "metadata": {},
   "outputs": [],
   "source": [
    "\n",
    "#temperature = int(input('What is the temperature?'))\n",
    "\n",
    "#Turning the data into a dictionary to upload to firebase\n",
    "data_to_upload = {\n",
    "    'School Name': 'SCHOOL NAME',\n",
    "    'Teacher Name': 'TEST',\n",
    "    'Address': 'TEST',\n",
    "    'Grade': 'TEST',\n",
    "    'Country': 'TEST',\n",
    "    'Email': 'TEST'\n",
    "}\n",
    "\n",
    "#Uploading data without an ID specification\n",
    "result = FBConn.post('/', data_to_upload)\n",
    "\n",
    "#Uploading / Updating specific data\n",
    "#result2 = FBConn.put('/MyTestData/Temp1', 'Temp', temperature) \n",
    "\n",
    "#Result is a unique identifier used by firebase, and if we can print result we know we uploaded successfully \n",
    "#print(result)\n",
    "#print(result2)\n"
   ]
  },
  {
   "cell_type": "markdown",
   "metadata": {},
   "source": [
    "# Displaying data from FireBase"
   ]
  },
  {
   "cell_type": "code",
   "execution_count": 17,
   "metadata": {},
   "outputs": [
    {
     "name": "stdout",
     "output_type": "stream",
     "text": [
      "{'School1': {'Address': '123 Peach Drive, GA, United States, 03213', 'Country': 'United States', 'Email': 'MsJonesStAndrew@gmail.com', 'Grade': '5', 'School Name': 'St. Andrews', 'Teacher Name': 'Ms. Jones'}, 'School2': {'Address': '45 Reiter Ave, Bavaria, Germany, 11123', 'Country': 'Germany', 'Email': 'MrSmithHSN@gmail.com', 'Grade': '3', 'School Name': 'High School North', 'Teacher Name': 'Mr. Smith'}, 'School3': {'Address': '3 Sphagetti Lane, Rome, Italy, 08231', 'Country': 'Italy', 'Email': 'MrsJohnsonItaly@gmail.com', 'Grade': '2', 'School Name': 'International School', 'Teacher Name': 'Mrs. Johnson'}}\n"
     ]
    }
   ],
   "source": [
    "result = FBConn.get('/', None)\n",
    "print(result)"
   ]
  },
  {
   "cell_type": "markdown",
   "metadata": {},
   "source": [
    "# Deleting data from FireBase"
   ]
  },
  {
   "cell_type": "code",
   "execution_count": 18,
   "metadata": {},
   "outputs": [
    {
     "name": "stdout",
     "output_type": "stream",
     "text": [
      "None\n"
     ]
    }
   ],
   "source": [
    "result = FBConn.delete('/MyTestData/Temp1', None)\n",
    "print(result)"
   ]
  },
  {
   "cell_type": "code",
   "execution_count": 14,
   "metadata": {},
   "outputs": [
    {
     "name": "stdout",
     "output_type": "stream",
     "text": [
      "Found!\n"
     ]
    }
   ],
   "source": []
  },
  {
   "cell_type": "code",
   "execution_count": 18,
   "metadata": {},
   "outputs": [
    {
     "name": "stdout",
     "output_type": "stream",
     "text": [
      "{'Address': '123 Peach Drive, GA, United States, 03213', 'Country': 'United States', 'Email': 'MsJonesStAndrew@gmail.com', 'Grade': '5', 'School Name': 'St. Andrews', 'Teacher Name': 'Ms. Jones'}\n",
      "{'Address': '45 Reiter Ave, Bavaria, Germany, 11123', 'Country': 'Germany', 'Email': 'MrSmithHSN@gmail.com', 'Grade': '3', 'School Name': 'High School North', 'Teacher Name': 'Mr. Smith'}\n",
      "{'Address': '3 Sphagetti Lane, Rome, Italy, 08231', 'Country': 'Italy', 'Email': 'MrsJohnsonItaly@gmail.com', 'Grade': '2', 'School Name': 'International School', 'Teacher Name': 'Mrs. Johnson'}\n"
     ]
    }
   ],
   "source": [
    "for key in result.keys():\n",
    "    print(result[key])"
   ]
  },
  {
   "cell_type": "code",
   "execution_count": null,
   "metadata": {},
   "outputs": [],
   "source": []
  }
 ],
 "metadata": {
  "kernelspec": {
   "display_name": "Python 3",
   "language": "python",
   "name": "python3"
  },
  "language_info": {
   "codemirror_mode": {
    "name": "ipython",
    "version": 3
   },
   "file_extension": ".py",
   "mimetype": "text/x-python",
   "name": "python",
   "nbconvert_exporter": "python",
   "pygments_lexer": "ipython3",
   "version": "3.7.4"
  }
 },
 "nbformat": 4,
 "nbformat_minor": 4
}
