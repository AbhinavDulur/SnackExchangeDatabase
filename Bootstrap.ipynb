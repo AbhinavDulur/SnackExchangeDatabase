{
 "cells": [
  {
   "cell_type": "markdown",
   "metadata": {},
   "source": [
    "# The purpose of this file is to create a Database Web App."
   ]
  },
  {
   "cell_type": "code",
   "execution_count": 4,
   "metadata": {},
   "outputs": [],
   "source": [
    "#Importing necessary packages\n",
    "from flask import Flask, redirect, url_for, render_template, request\n",
    "import os\n",
    "\n",
    "from firebase import firebase\n",
    "\n",
    "import pprint\n",
    "pp = pprint.PrettyPrinter(indent=4)"
   ]
  },
  {
   "cell_type": "code",
   "execution_count": 8,
   "metadata": {},
   "outputs": [
    {
     "name": "stdout",
     "output_type": "stream",
     "text": [
      " * Serving Flask app \"__main__\" (lazy loading)\n",
      " * Environment: production\n",
      "   WARNING: This is a development server. Do not use it in a production deployment.\n",
      "   Use a production WSGI server instead.\n",
      " * Debug mode: off\n"
     ]
    },
    {
     "name": "stderr",
     "output_type": "stream",
     "text": [
      " * Running on http://127.0.0.1:5000/ (Press CTRL+C to quit)\n",
      "127.0.0.1 - - [07/Jun/2020 20:08:26] \"GET / HTTP/1.1\" 200 -\n",
      "127.0.0.1 - - [07/Jun/2020 20:08:26] \"GET /static/image1.png HTTP/1.1\" 200 -\n",
      "127.0.0.1 - - [07/Jun/2020 20:08:26] \"GET /static/image2.png HTTP/1.1\" 200 -\n",
      "127.0.0.1 - - [07/Jun/2020 20:08:26] \"GET /static/image3.png HTTP/1.1\" 200 -\n"
     ]
    }
   ],
   "source": [
    "app = Flask(__name__)\n",
    "@app.route(\"/\", methods = ['GET', 'POST'])\n",
    "def home():\n",
    "\n",
    "    #If a button is clicked\n",
    "    if request.method == 'POST':\n",
    "        \n",
    "        \n",
    "        if request.form.get('submit') == 'submit':\n",
    "        \n",
    "            #Getting the data from the form\n",
    "            result = request.form\n",
    "            schoolname = result['inputSchoolName']\n",
    "            address = result['inputAddress']\n",
    "            email = result['inputEmail']\n",
    "            teachername = result['inputTeachername']\n",
    "            grade = result['inputGrade']\n",
    "            country = result['inputCountry']\n",
    "\n",
    "            #Putting it in a dictionary to upload\n",
    "            data_to_upload = {\n",
    "                'School Name': schoolname,\n",
    "                'Teacher Name': teachername,\n",
    "                'Address': address,\n",
    "                'Grade': grade,\n",
    "                'Country': country,\n",
    "                'Email': email\n",
    "            }\n",
    "\n",
    "            #Getting a list of the current schools in the database\n",
    "            FBConn = firebase.FirebaseApplication('https://snack-exchange-database.firebaseio.com/', None)\n",
    "            data = FBConn.get('/', None)\n",
    "            names = []\n",
    "            for keys in data.keys():\n",
    "                names.append(data[keys]['School Name'])\n",
    "\n",
    "            #If it is a new school, we will add it to the database\n",
    "            if schoolname not in names:\n",
    "                FBConn.post('/', data_to_upload)\n",
    "\n",
    "            #Re-establishing connection to the database, to \"update\" the database\n",
    "            FBConn = firebase.FirebaseApplication('https://snack-exchange-database.firebaseio.com/', None)\n",
    "            data = FBConn.get('/', None)\n",
    "\n",
    "            #Returning the same page with the updated database\n",
    "            return render_template(\"base.html\", data = data)\n",
    "    \n",
    "        #If the delete button is clicked\n",
    "        elif request.form.get('delete') == 'delete':\n",
    "        \n",
    "            #Getting the data from the form\n",
    "            result = request.form\n",
    "            schoolname = result['inputSchoolName']\n",
    "            address = result['inputAddress']\n",
    "            email = result['inputEmail']\n",
    "            teachername = result['inputTeachername']\n",
    "            grade = result['inputGrade']\n",
    "            country = result['inputCountry']\n",
    "\n",
    "            #Putting it in a dictionary to check to see if its in teh database\n",
    "            data_to_upload = {\n",
    "                'School Name': schoolname,\n",
    "                'Teacher Name': teachername,\n",
    "                'Address': address,\n",
    "                'Grade': grade,\n",
    "                'Country': country,\n",
    "                'Email': email\n",
    "            }\n",
    "\n",
    "            #If the data in the form is found in the database, it will be deleted\n",
    "            FBConn = firebase.FirebaseApplication('https://snack-exchange-database.firebaseio.com/', None)\n",
    "            data = FBConn.get('/', None)\n",
    "            for key in data.keys():\n",
    "                if data[key] == data_to_upload:\n",
    "                    FBConn.delete('/' + key, None)\n",
    "\n",
    "            #Re-establishing connection to the database, to \"update\" the database\n",
    "            FBConn = firebase.FirebaseApplication('https://snack-exchange-database.firebaseio.com/', None)\n",
    "            data = FBConn.get('/', None)\n",
    "\n",
    "            #Returning the same page with the updated database\n",
    "            return render_template(\"base.html\", data = data)\n",
    "\n",
    "    \n",
    "    #Establishing connection to my firebase - the base page will return if the button is not clicked\n",
    "    FBConn = firebase.FirebaseApplication('https://snack-exchange-database.firebaseio.com/', None)\n",
    "    data = FBConn.get('/', None)\n",
    "    \n",
    "    #Returning the base template\n",
    "    return render_template(\"base.html\", data = data)\n",
    "\n",
    "\n",
    "#This runs if this file is run within itself (not from another file)\n",
    "if __name__ == \"__main__\":\n",
    "    app.run()"
   ]
  },
  {
   "cell_type": "code",
   "execution_count": null,
   "metadata": {},
   "outputs": [],
   "source": []
  }
 ],
 "metadata": {
  "kernelspec": {
   "display_name": "Python 3",
   "language": "python",
   "name": "python3"
  },
  "language_info": {
   "codemirror_mode": {
    "name": "ipython",
    "version": 3
   },
   "file_extension": ".py",
   "mimetype": "text/x-python",
   "name": "python",
   "nbconvert_exporter": "python",
   "pygments_lexer": "ipython3",
   "version": "3.7.4"
  }
 },
 "nbformat": 4,
 "nbformat_minor": 4
}
